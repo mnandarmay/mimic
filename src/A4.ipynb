{
 "cells": [
  {
   "cell_type": "markdown",
   "metadata": {},
   "source": [
    "# Assignment 4: MIMICIII - Classification Performance "
   ]
  },
  {
   "cell_type": "code",
   "execution_count": 1,
   "metadata": {},
   "outputs": [],
   "source": [
    "import numpy as np\n",
    "import pandas as pd\n",
    "import matplotlib.pyplot as plt\n",
    "import seaborn as sns"
   ]
  },
  {
   "cell_type": "code",
   "execution_count": 2,
   "metadata": {},
   "outputs": [
    {
     "data": {
      "text/html": [
       "<div>\n",
       "<style scoped>\n",
       "    .dataframe tbody tr th:only-of-type {\n",
       "        vertical-align: middle;\n",
       "    }\n",
       "\n",
       "    .dataframe tbody tr th {\n",
       "        vertical-align: top;\n",
       "    }\n",
       "\n",
       "    .dataframe thead th {\n",
       "        text-align: right;\n",
       "    }\n",
       "</style>\n",
       "<table border=\"1\" class=\"dataframe\">\n",
       "  <thead>\n",
       "    <tr style=\"text-align: right;\">\n",
       "      <th></th>\n",
       "      <th>bicarbonate</th>\n",
       "      <th>bun</th>\n",
       "      <th>chloride</th>\n",
       "      <th>creatinine</th>\n",
       "      <th>dbp</th>\n",
       "      <th>glucose</th>\n",
       "      <th>heart_rate</th>\n",
       "      <th>hematocrit</th>\n",
       "      <th>hemoglobin</th>\n",
       "      <th>map</th>\n",
       "      <th>...</th>\n",
       "      <th>resp_rate</th>\n",
       "      <th>sodium</th>\n",
       "      <th>sbp</th>\n",
       "      <th>temp</th>\n",
       "      <th>wbc</th>\n",
       "      <th>age</th>\n",
       "      <th>gender</th>\n",
       "      <th>ethnicity</th>\n",
       "      <th>los</th>\n",
       "      <th>death_status</th>\n",
       "    </tr>\n",
       "  </thead>\n",
       "  <tbody>\n",
       "    <tr>\n",
       "      <th>0</th>\n",
       "      <td>23.0</td>\n",
       "      <td>17.0</td>\n",
       "      <td>96.0</td>\n",
       "      <td>1.3</td>\n",
       "      <td>55.545455</td>\n",
       "      <td>85.0</td>\n",
       "      <td>92.904762</td>\n",
       "      <td>29.6</td>\n",
       "      <td>9.7</td>\n",
       "      <td>75.984845</td>\n",
       "      <td>...</td>\n",
       "      <td>20.363636</td>\n",
       "      <td>131.500000</td>\n",
       "      <td>116.863636</td>\n",
       "      <td>35.930556</td>\n",
       "      <td>10.5</td>\n",
       "      <td>76.0</td>\n",
       "      <td>M</td>\n",
       "      <td>White</td>\n",
       "      <td>6.0646</td>\n",
       "      <td>0</td>\n",
       "    </tr>\n",
       "    <tr>\n",
       "      <th>1</th>\n",
       "      <td>14.0</td>\n",
       "      <td>73.0</td>\n",
       "      <td>101.0</td>\n",
       "      <td>5.1</td>\n",
       "      <td>64.047619</td>\n",
       "      <td>118.0</td>\n",
       "      <td>85.750000</td>\n",
       "      <td>35.7</td>\n",
       "      <td>12.2</td>\n",
       "      <td>93.873014</td>\n",
       "      <td>...</td>\n",
       "      <td>14.347826</td>\n",
       "      <td>130.000000</td>\n",
       "      <td>153.523810</td>\n",
       "      <td>36.039682</td>\n",
       "      <td>3.9</td>\n",
       "      <td>66.0</td>\n",
       "      <td>F</td>\n",
       "      <td>White</td>\n",
       "      <td>3.6729</td>\n",
       "      <td>0</td>\n",
       "    </tr>\n",
       "    <tr>\n",
       "      <th>2</th>\n",
       "      <td>24.0</td>\n",
       "      <td>33.0</td>\n",
       "      <td>107.0</td>\n",
       "      <td>2.0</td>\n",
       "      <td>76.476190</td>\n",
       "      <td>114.0</td>\n",
       "      <td>81.904762</td>\n",
       "      <td>36.8</td>\n",
       "      <td>12.6</td>\n",
       "      <td>94.850000</td>\n",
       "      <td>...</td>\n",
       "      <td>16.653846</td>\n",
       "      <td>135.666667</td>\n",
       "      <td>141.666667</td>\n",
       "      <td>35.888889</td>\n",
       "      <td>11.1</td>\n",
       "      <td>41.0</td>\n",
       "      <td>M</td>\n",
       "      <td>Other</td>\n",
       "      <td>5.3231</td>\n",
       "      <td>1</td>\n",
       "    </tr>\n",
       "    <tr>\n",
       "      <th>3</th>\n",
       "      <td>23.0</td>\n",
       "      <td>29.0</td>\n",
       "      <td>100.0</td>\n",
       "      <td>1.1</td>\n",
       "      <td>75.450000</td>\n",
       "      <td>130.0</td>\n",
       "      <td>94.650000</td>\n",
       "      <td>36.6</td>\n",
       "      <td>12.4</td>\n",
       "      <td>99.066730</td>\n",
       "      <td>...</td>\n",
       "      <td>31.400000</td>\n",
       "      <td>135.000000</td>\n",
       "      <td>146.300000</td>\n",
       "      <td>37.074074</td>\n",
       "      <td>30.2</td>\n",
       "      <td>72.0</td>\n",
       "      <td>M</td>\n",
       "      <td>White</td>\n",
       "      <td>7.6348</td>\n",
       "      <td>1</td>\n",
       "    </tr>\n",
       "    <tr>\n",
       "      <th>4</th>\n",
       "      <td>29.0</td>\n",
       "      <td>13.0</td>\n",
       "      <td>104.0</td>\n",
       "      <td>0.4</td>\n",
       "      <td>60.520000</td>\n",
       "      <td>168.5</td>\n",
       "      <td>99.600000</td>\n",
       "      <td>26.9</td>\n",
       "      <td>8.8</td>\n",
       "      <td>78.533332</td>\n",
       "      <td>...</td>\n",
       "      <td>18.840000</td>\n",
       "      <td>138.000000</td>\n",
       "      <td>125.440000</td>\n",
       "      <td>37.687301</td>\n",
       "      <td>14.3</td>\n",
       "      <td>40.0</td>\n",
       "      <td>F</td>\n",
       "      <td>White</td>\n",
       "      <td>3.6660</td>\n",
       "      <td>0</td>\n",
       "    </tr>\n",
       "  </tbody>\n",
       "</table>\n",
       "<p>5 rows × 23 columns</p>\n",
       "</div>"
      ],
      "text/plain": [
       "   bicarbonate   bun  chloride  creatinine        dbp  glucose  heart_rate  \\\n",
       "0         23.0  17.0      96.0         1.3  55.545455     85.0   92.904762   \n",
       "1         14.0  73.0     101.0         5.1  64.047619    118.0   85.750000   \n",
       "2         24.0  33.0     107.0         2.0  76.476190    114.0   81.904762   \n",
       "3         23.0  29.0     100.0         1.1  75.450000    130.0   94.650000   \n",
       "4         29.0  13.0     104.0         0.4  60.520000    168.5   99.600000   \n",
       "\n",
       "   hematocrit  hemoglobin        map  ...  resp_rate      sodium         sbp  \\\n",
       "0        29.6         9.7  75.984845  ...  20.363636  131.500000  116.863636   \n",
       "1        35.7        12.2  93.873014  ...  14.347826  130.000000  153.523810   \n",
       "2        36.8        12.6  94.850000  ...  16.653846  135.666667  141.666667   \n",
       "3        36.6        12.4  99.066730  ...  31.400000  135.000000  146.300000   \n",
       "4        26.9         8.8  78.533332  ...  18.840000  138.000000  125.440000   \n",
       "\n",
       "        temp   wbc   age  gender  ethnicity     los death_status  \n",
       "0  35.930556  10.5  76.0       M      White  6.0646            0  \n",
       "1  36.039682   3.9  66.0       F      White  3.6729            0  \n",
       "2  35.888889  11.1  41.0       M      Other  5.3231            1  \n",
       "3  37.074074  30.2  72.0       M      White  7.6348            1  \n",
       "4  37.687301  14.3  40.0       F      White  3.6660            0  \n",
       "\n",
       "[5 rows x 23 columns]"
      ]
     },
     "execution_count": 2,
     "metadata": {},
     "output_type": "execute_result"
    }
   ],
   "source": [
    "# Load data\n",
    "data = pd.read_csv(\"mimic_clean.csv\", index_col=0)\n",
    "data.head()"
   ]
  },
  {
   "cell_type": "markdown",
   "metadata": {},
   "source": [
    "Before we begin our analysis, we first split our data into features and target.\n",
    "\n",
    "### Categorical Variables\n",
    "\n",
    "We then determine if any of the patients' demographics are associated with hospital survival. To accomplish this, we carry out a chi-squared test.\n",
    "\n",
    "- Null Hypothesis (H0): Gender and ethnicity are independent of the target class.\n",
    "- Alternative Hypothesis (Ha): Gender and ethnicity are not independent of the target class."
   ]
  },
  {
   "cell_type": "code",
   "execution_count": 3,
   "metadata": {},
   "outputs": [],
   "source": [
    "X = data.drop(columns='death_status')\n",
    "y = data['death_status']"
   ]
  },
  {
   "cell_type": "code",
   "execution_count": 4,
   "metadata": {},
   "outputs": [
    {
     "data": {
      "text/html": [
       "<div>\n",
       "<style scoped>\n",
       "    .dataframe tbody tr th:only-of-type {\n",
       "        vertical-align: middle;\n",
       "    }\n",
       "\n",
       "    .dataframe tbody tr th {\n",
       "        vertical-align: top;\n",
       "    }\n",
       "\n",
       "    .dataframe thead th {\n",
       "        text-align: right;\n",
       "    }\n",
       "</style>\n",
       "<table border=\"1\" class=\"dataframe\">\n",
       "  <thead>\n",
       "    <tr style=\"text-align: right;\">\n",
       "      <th></th>\n",
       "      <th>feature</th>\n",
       "      <th>X2 statistic</th>\n",
       "      <th>p-value</th>\n",
       "    </tr>\n",
       "  </thead>\n",
       "  <tbody>\n",
       "    <tr>\n",
       "      <th>0</th>\n",
       "      <td>gender</td>\n",
       "      <td>3.376465</td>\n",
       "      <td>0.066134</td>\n",
       "    </tr>\n",
       "    <tr>\n",
       "      <th>1</th>\n",
       "      <td>ethnicity</td>\n",
       "      <td>0.153405</td>\n",
       "      <td>0.695302</td>\n",
       "    </tr>\n",
       "  </tbody>\n",
       "</table>\n",
       "</div>"
      ],
      "text/plain": [
       "     feature  X2 statistic   p-value\n",
       "0     gender      3.376465  0.066134\n",
       "1  ethnicity      0.153405  0.695302"
      ]
     },
     "execution_count": 4,
     "metadata": {},
     "output_type": "execute_result"
    }
   ],
   "source": [
    "from sklearn.preprocessing import LabelEncoder\n",
    "from sklearn.feature_selection import chi2\n",
    "\n",
    "label_encoder = LabelEncoder()\n",
    "\n",
    "X_cat = X[['gender', 'ethnicity']].copy()\n",
    "X_cat['ethnicity'] = label_encoder.fit_transform(X_cat['ethnicity'])\n",
    "X_cat['gender'] = label_encoder.fit_transform(X_cat['gender'])\n",
    "\n",
    "chi_scores, p_values = chi2(X_cat, y)\n",
    "\n",
    "chi2_df = pd.DataFrame({\n",
    "    'feature': X_cat.columns,\n",
    "    'X2 statistic': chi_scores,\n",
    "    'p-value': p_values\n",
    "})\n",
    "\n",
    "chi2_df"
   ]
  },
  {
   "cell_type": "markdown",
   "metadata": {},
   "source": [
    "As the p-values for both gender and ethnicity are greater than the 5% significance level, we fail to reject our H0. We conclude that patients' demographics are independent of hospital survival status. Thus, we drop these columns from our dataset"
   ]
  },
  {
   "cell_type": "code",
   "execution_count": 5,
   "metadata": {},
   "outputs": [
    {
     "data": {
      "text/html": [
       "<div>\n",
       "<style scoped>\n",
       "    .dataframe tbody tr th:only-of-type {\n",
       "        vertical-align: middle;\n",
       "    }\n",
       "\n",
       "    .dataframe tbody tr th {\n",
       "        vertical-align: top;\n",
       "    }\n",
       "\n",
       "    .dataframe thead th {\n",
       "        text-align: right;\n",
       "    }\n",
       "</style>\n",
       "<table border=\"1\" class=\"dataframe\">\n",
       "  <thead>\n",
       "    <tr style=\"text-align: right;\">\n",
       "      <th></th>\n",
       "      <th>bicarbonate</th>\n",
       "      <th>bun</th>\n",
       "      <th>chloride</th>\n",
       "      <th>creatinine</th>\n",
       "      <th>dbp</th>\n",
       "      <th>glucose</th>\n",
       "      <th>heart_rate</th>\n",
       "      <th>hematocrit</th>\n",
       "      <th>hemoglobin</th>\n",
       "      <th>map</th>\n",
       "      <th>spo2</th>\n",
       "      <th>platelets</th>\n",
       "      <th>potassium</th>\n",
       "      <th>resp_rate</th>\n",
       "      <th>sodium</th>\n",
       "      <th>sbp</th>\n",
       "      <th>temp</th>\n",
       "      <th>wbc</th>\n",
       "      <th>age</th>\n",
       "      <th>los</th>\n",
       "    </tr>\n",
       "  </thead>\n",
       "  <tbody>\n",
       "    <tr>\n",
       "      <th>0</th>\n",
       "      <td>23.0</td>\n",
       "      <td>17.0</td>\n",
       "      <td>96.0</td>\n",
       "      <td>1.3</td>\n",
       "      <td>55.545455</td>\n",
       "      <td>85.0</td>\n",
       "      <td>92.904762</td>\n",
       "      <td>29.6</td>\n",
       "      <td>9.7</td>\n",
       "      <td>75.984845</td>\n",
       "      <td>96.545455</td>\n",
       "      <td>191.0</td>\n",
       "      <td>3.40</td>\n",
       "      <td>20.363636</td>\n",
       "      <td>131.500000</td>\n",
       "      <td>116.863636</td>\n",
       "      <td>35.930556</td>\n",
       "      <td>10.5</td>\n",
       "      <td>76.0</td>\n",
       "      <td>6.0646</td>\n",
       "    </tr>\n",
       "    <tr>\n",
       "      <th>1</th>\n",
       "      <td>14.0</td>\n",
       "      <td>73.0</td>\n",
       "      <td>101.0</td>\n",
       "      <td>5.1</td>\n",
       "      <td>64.047619</td>\n",
       "      <td>118.0</td>\n",
       "      <td>85.750000</td>\n",
       "      <td>35.7</td>\n",
       "      <td>12.2</td>\n",
       "      <td>93.873014</td>\n",
       "      <td>97.000000</td>\n",
       "      <td>160.0</td>\n",
       "      <td>4.70</td>\n",
       "      <td>14.347826</td>\n",
       "      <td>130.000000</td>\n",
       "      <td>153.523810</td>\n",
       "      <td>36.039682</td>\n",
       "      <td>3.9</td>\n",
       "      <td>66.0</td>\n",
       "      <td>3.6729</td>\n",
       "    </tr>\n",
       "    <tr>\n",
       "      <th>2</th>\n",
       "      <td>24.0</td>\n",
       "      <td>33.0</td>\n",
       "      <td>107.0</td>\n",
       "      <td>2.0</td>\n",
       "      <td>76.476190</td>\n",
       "      <td>114.0</td>\n",
       "      <td>81.904762</td>\n",
       "      <td>36.8</td>\n",
       "      <td>12.6</td>\n",
       "      <td>94.850000</td>\n",
       "      <td>99.666667</td>\n",
       "      <td>330.0</td>\n",
       "      <td>3.50</td>\n",
       "      <td>16.653846</td>\n",
       "      <td>135.666667</td>\n",
       "      <td>141.666667</td>\n",
       "      <td>35.888889</td>\n",
       "      <td>11.1</td>\n",
       "      <td>41.0</td>\n",
       "      <td>5.3231</td>\n",
       "    </tr>\n",
       "    <tr>\n",
       "      <th>3</th>\n",
       "      <td>23.0</td>\n",
       "      <td>29.0</td>\n",
       "      <td>100.0</td>\n",
       "      <td>1.1</td>\n",
       "      <td>75.450000</td>\n",
       "      <td>130.0</td>\n",
       "      <td>94.650000</td>\n",
       "      <td>36.6</td>\n",
       "      <td>12.4</td>\n",
       "      <td>99.066730</td>\n",
       "      <td>97.200000</td>\n",
       "      <td>279.0</td>\n",
       "      <td>3.80</td>\n",
       "      <td>31.400000</td>\n",
       "      <td>135.000000</td>\n",
       "      <td>146.300000</td>\n",
       "      <td>37.074074</td>\n",
       "      <td>30.2</td>\n",
       "      <td>72.0</td>\n",
       "      <td>7.6348</td>\n",
       "    </tr>\n",
       "    <tr>\n",
       "      <th>4</th>\n",
       "      <td>29.0</td>\n",
       "      <td>13.0</td>\n",
       "      <td>104.0</td>\n",
       "      <td>0.4</td>\n",
       "      <td>60.520000</td>\n",
       "      <td>168.5</td>\n",
       "      <td>99.600000</td>\n",
       "      <td>26.9</td>\n",
       "      <td>8.8</td>\n",
       "      <td>78.533332</td>\n",
       "      <td>99.280000</td>\n",
       "      <td>103.0</td>\n",
       "      <td>4.25</td>\n",
       "      <td>18.840000</td>\n",
       "      <td>138.000000</td>\n",
       "      <td>125.440000</td>\n",
       "      <td>37.687301</td>\n",
       "      <td>14.3</td>\n",
       "      <td>40.0</td>\n",
       "      <td>3.6660</td>\n",
       "    </tr>\n",
       "  </tbody>\n",
       "</table>\n",
       "</div>"
      ],
      "text/plain": [
       "   bicarbonate   bun  chloride  creatinine        dbp  glucose  heart_rate  \\\n",
       "0         23.0  17.0      96.0         1.3  55.545455     85.0   92.904762   \n",
       "1         14.0  73.0     101.0         5.1  64.047619    118.0   85.750000   \n",
       "2         24.0  33.0     107.0         2.0  76.476190    114.0   81.904762   \n",
       "3         23.0  29.0     100.0         1.1  75.450000    130.0   94.650000   \n",
       "4         29.0  13.0     104.0         0.4  60.520000    168.5   99.600000   \n",
       "\n",
       "   hematocrit  hemoglobin        map       spo2  platelets  potassium  \\\n",
       "0        29.6         9.7  75.984845  96.545455      191.0       3.40   \n",
       "1        35.7        12.2  93.873014  97.000000      160.0       4.70   \n",
       "2        36.8        12.6  94.850000  99.666667      330.0       3.50   \n",
       "3        36.6        12.4  99.066730  97.200000      279.0       3.80   \n",
       "4        26.9         8.8  78.533332  99.280000      103.0       4.25   \n",
       "\n",
       "   resp_rate      sodium         sbp       temp   wbc   age     los  \n",
       "0  20.363636  131.500000  116.863636  35.930556  10.5  76.0  6.0646  \n",
       "1  14.347826  130.000000  153.523810  36.039682   3.9  66.0  3.6729  \n",
       "2  16.653846  135.666667  141.666667  35.888889  11.1  41.0  5.3231  \n",
       "3  31.400000  135.000000  146.300000  37.074074  30.2  72.0  7.6348  \n",
       "4  18.840000  138.000000  125.440000  37.687301  14.3  40.0  3.6660  "
      ]
     },
     "execution_count": 5,
     "metadata": {},
     "output_type": "execute_result"
    }
   ],
   "source": [
    "X = X.drop(columns=['gender', 'ethnicity'])\n",
    "X.head()"
   ]
  },
  {
   "cell_type": "markdown",
   "metadata": {},
   "source": [
    "We observe that the units of measurement for our vital signs and laboratory measurements are all different. Therefore, we need to scale our data so that each feature is on a comparable scale and contributes equally to the analysis. Scaling ensures that features with larger ranges do not disproportionately influence the model or dominate those with smaller ranges."
   ]
  },
  {
   "cell_type": "code",
   "execution_count": 6,
   "metadata": {},
   "outputs": [
    {
     "data": {
      "text/html": [
       "<div>\n",
       "<style scoped>\n",
       "    .dataframe tbody tr th:only-of-type {\n",
       "        vertical-align: middle;\n",
       "    }\n",
       "\n",
       "    .dataframe tbody tr th {\n",
       "        vertical-align: top;\n",
       "    }\n",
       "\n",
       "    .dataframe thead th {\n",
       "        text-align: right;\n",
       "    }\n",
       "</style>\n",
       "<table border=\"1\" class=\"dataframe\">\n",
       "  <thead>\n",
       "    <tr style=\"text-align: right;\">\n",
       "      <th></th>\n",
       "      <th>bicarbonate</th>\n",
       "      <th>bun</th>\n",
       "      <th>chloride</th>\n",
       "      <th>creatinine</th>\n",
       "      <th>dbp</th>\n",
       "      <th>glucose</th>\n",
       "      <th>heart_rate</th>\n",
       "      <th>hematocrit</th>\n",
       "      <th>hemoglobin</th>\n",
       "      <th>map</th>\n",
       "      <th>spo2</th>\n",
       "      <th>platelets</th>\n",
       "      <th>potassium</th>\n",
       "      <th>resp_rate</th>\n",
       "      <th>sodium</th>\n",
       "      <th>sbp</th>\n",
       "      <th>temp</th>\n",
       "      <th>wbc</th>\n",
       "      <th>age</th>\n",
       "      <th>los</th>\n",
       "    </tr>\n",
       "  </thead>\n",
       "  <tbody>\n",
       "    <tr>\n",
       "      <th>0</th>\n",
       "      <td>-0.676010</td>\n",
       "      <td>-0.453178</td>\n",
       "      <td>-1.476126</td>\n",
       "      <td>0.018950</td>\n",
       "      <td>-0.435400</td>\n",
       "      <td>-0.963251</td>\n",
       "      <td>0.573509</td>\n",
       "      <td>-0.166019</td>\n",
       "      <td>-0.347339</td>\n",
       "      <td>-0.255940</td>\n",
       "      <td>0.131105</td>\n",
       "      <td>-0.306721</td>\n",
       "      <td>-1.257552</td>\n",
       "      <td>0.059072</td>\n",
       "      <td>-1.628294</td>\n",
       "      <td>-0.300400</td>\n",
       "      <td>-1.273335</td>\n",
       "      <td>-0.108709</td>\n",
       "      <td>0.639284</td>\n",
       "      <td>-0.103233</td>\n",
       "    </tr>\n",
       "    <tr>\n",
       "      <th>1</th>\n",
       "      <td>-2.655866</td>\n",
       "      <td>2.168225</td>\n",
       "      <td>-0.561497</td>\n",
       "      <td>2.941633</td>\n",
       "      <td>0.290500</td>\n",
       "      <td>-0.180128</td>\n",
       "      <td>0.076088</td>\n",
       "      <td>1.215348</td>\n",
       "      <td>1.267272</td>\n",
       "      <td>1.183369</td>\n",
       "      <td>0.260832</td>\n",
       "      <td>-0.516443</td>\n",
       "      <td>1.452639</td>\n",
       "      <td>-1.370871</td>\n",
       "      <td>-1.961778</td>\n",
       "      <td>1.637261</td>\n",
       "      <td>-1.115559</td>\n",
       "      <td>-1.199852</td>\n",
       "      <td>0.052806</td>\n",
       "      <td>-0.421558</td>\n",
       "    </tr>\n",
       "    <tr>\n",
       "      <th>2</th>\n",
       "      <td>-0.456026</td>\n",
       "      <td>0.295794</td>\n",
       "      <td>0.536057</td>\n",
       "      <td>0.557339</td>\n",
       "      <td>1.351630</td>\n",
       "      <td>-0.275052</td>\n",
       "      <td>-0.191244</td>\n",
       "      <td>1.464447</td>\n",
       "      <td>1.525610</td>\n",
       "      <td>1.261979</td>\n",
       "      <td>1.021891</td>\n",
       "      <td>0.633648</td>\n",
       "      <td>-1.049075</td>\n",
       "      <td>-0.822736</td>\n",
       "      <td>-0.701950</td>\n",
       "      <td>1.010555</td>\n",
       "      <td>-1.333578</td>\n",
       "      <td>-0.009515</td>\n",
       "      <td>-1.413387</td>\n",
       "      <td>-0.201923</td>\n",
       "    </tr>\n",
       "    <tr>\n",
       "      <th>3</th>\n",
       "      <td>-0.676010</td>\n",
       "      <td>0.108551</td>\n",
       "      <td>-0.744423</td>\n",
       "      <td>-0.134876</td>\n",
       "      <td>1.264016</td>\n",
       "      <td>0.104644</td>\n",
       "      <td>0.694843</td>\n",
       "      <td>1.419156</td>\n",
       "      <td>1.396441</td>\n",
       "      <td>1.601264</td>\n",
       "      <td>0.317911</td>\n",
       "      <td>0.288621</td>\n",
       "      <td>-0.423647</td>\n",
       "      <td>2.682388</td>\n",
       "      <td>-0.850165</td>\n",
       "      <td>1.255449</td>\n",
       "      <td>0.379982</td>\n",
       "      <td>3.148187</td>\n",
       "      <td>0.404693</td>\n",
       "      <td>0.105754</td>\n",
       "    </tr>\n",
       "    <tr>\n",
       "      <th>4</th>\n",
       "      <td>0.643893</td>\n",
       "      <td>-0.640421</td>\n",
       "      <td>-0.012720</td>\n",
       "      <td>-0.673265</td>\n",
       "      <td>-0.010682</td>\n",
       "      <td>1.018288</td>\n",
       "      <td>1.038982</td>\n",
       "      <td>-0.777444</td>\n",
       "      <td>-0.928599</td>\n",
       "      <td>-0.050885</td>\n",
       "      <td>0.911538</td>\n",
       "      <td>-0.902062</td>\n",
       "      <td>0.514496</td>\n",
       "      <td>-0.303093</td>\n",
       "      <td>-0.183198</td>\n",
       "      <td>0.152901</td>\n",
       "      <td>1.266595</td>\n",
       "      <td>0.519524</td>\n",
       "      <td>-1.472035</td>\n",
       "      <td>-0.422476</td>\n",
       "    </tr>\n",
       "  </tbody>\n",
       "</table>\n",
       "</div>"
      ],
      "text/plain": [
       "   bicarbonate       bun  chloride  creatinine       dbp   glucose  \\\n",
       "0    -0.676010 -0.453178 -1.476126    0.018950 -0.435400 -0.963251   \n",
       "1    -2.655866  2.168225 -0.561497    2.941633  0.290500 -0.180128   \n",
       "2    -0.456026  0.295794  0.536057    0.557339  1.351630 -0.275052   \n",
       "3    -0.676010  0.108551 -0.744423   -0.134876  1.264016  0.104644   \n",
       "4     0.643893 -0.640421 -0.012720   -0.673265 -0.010682  1.018288   \n",
       "\n",
       "   heart_rate  hematocrit  hemoglobin       map      spo2  platelets  \\\n",
       "0    0.573509   -0.166019   -0.347339 -0.255940  0.131105  -0.306721   \n",
       "1    0.076088    1.215348    1.267272  1.183369  0.260832  -0.516443   \n",
       "2   -0.191244    1.464447    1.525610  1.261979  1.021891   0.633648   \n",
       "3    0.694843    1.419156    1.396441  1.601264  0.317911   0.288621   \n",
       "4    1.038982   -0.777444   -0.928599 -0.050885  0.911538  -0.902062   \n",
       "\n",
       "   potassium  resp_rate    sodium       sbp      temp       wbc       age  \\\n",
       "0  -1.257552   0.059072 -1.628294 -0.300400 -1.273335 -0.108709  0.639284   \n",
       "1   1.452639  -1.370871 -1.961778  1.637261 -1.115559 -1.199852  0.052806   \n",
       "2  -1.049075  -0.822736 -0.701950  1.010555 -1.333578 -0.009515 -1.413387   \n",
       "3  -0.423647   2.682388 -0.850165  1.255449  0.379982  3.148187  0.404693   \n",
       "4   0.514496  -0.303093 -0.183198  0.152901  1.266595  0.519524 -1.472035   \n",
       "\n",
       "        los  \n",
       "0 -0.103233  \n",
       "1 -0.421558  \n",
       "2 -0.201923  \n",
       "3  0.105754  \n",
       "4 -0.422476  "
      ]
     },
     "execution_count": 6,
     "metadata": {},
     "output_type": "execute_result"
    }
   ],
   "source": [
    "from sklearn.preprocessing import StandardScaler\n",
    "\n",
    "scaler = StandardScaler()\n",
    "X_scaled = pd.DataFrame(scaler.fit_transform(X), columns=X.columns)\n",
    "X_scaled.head()\n"
   ]
  },
  {
   "cell_type": "markdown",
   "metadata": {},
   "source": [
    "### Target variable"
   ]
  },
  {
   "cell_type": "code",
   "execution_count": 7,
   "metadata": {},
   "outputs": [
    {
     "data": {
      "text/plain": [
       "death_status\n",
       "0    0.863185\n",
       "1    0.136815\n",
       "Name: proportion, dtype: float64"
      ]
     },
     "execution_count": 7,
     "metadata": {},
     "output_type": "execute_result"
    },
    {
     "data": {
      "image/png": "[encoded data removed]",
      "text/plain": [
       "<Figure size 640x480 with 1 Axes>"
      ]
     },
     "metadata": {},
     "output_type": "display_data"
    }
   ],
   "source": [
    "sns.countplot(x=y, hue=y, palette='icefire')\n",
    "plt.title(\"distribution of patients' survival\")\n",
    "\n",
    "data['death_status'].value_counts(normalize=True)"
   ]
  },
  {
   "cell_type": "markdown",
   "metadata": {},
   "source": [
    "When we look at the distribution of the target class, we see that it is imbalanced. It is made up of 86.3% of patients who survived the ICU and 13.7% who did not, which means there are about six times as many survivors as non-survivors.\n",
    "\n",
    "We need to account for this class imbalance to ensure that our model does not become biased towards the majority class. There are many methods to address this class imbalance, such as oversampling the minority class or undersampling the majority class. Undersampling the majority class can result in a loss of information, while oversampling the minority class can introduce noise. Therefore, we use a hybrid method going forward, which combines both oversampling and undersampling techniques to balance the dataset more effectively."
   ]
  },
  {
   "cell_type": "markdown",
   "metadata": {},
   "source": [
    "### Train/Test split\n",
    "\n",
    "Before we begin developing our model for ICU survival prediction, we first split our dataset into training and testing sets using a 70/30 ratio."
   ]
  },
  {
   "cell_type": "code",
   "execution_count": 8,
   "metadata": {},
   "outputs": [],
   "source": [
    "from sklearn.model_selection import train_test_split\n",
    "\n",
    "# Split the data into training and testing sets\n",
    "X_train, X_test, y_train, y_test = train_test_split(X_scaled, y, test_size=0.3, random_state=42)"
   ]
  },
  {
   "cell_type": "markdown",
   "metadata": {},
   "source": [
    "### Linear Optimal Low-rank Projection & Imbalance Classification\n",
    "\n",
    "As we have over 20 features in our final model, it could become computationally expensive and prone to overfitting due to the high dimensionality of the data. To address this, we implement a dimension reduction technique known as Linear Optimal Low-rank projection (LOL). LOL is designed to project high-dimensional data into a lower-dimensional space by preserving the most significant information, reducing noise, and enhancing computational efficiency. This technique leverages label information to optimize the projection, making it particularly effective.\n",
    "\n",
    "We first create a baseline model without handling the class imbalance. We initialize the LOL model with all components and use it to transform the training and test data. We then train a Logistic Regression on the transformed training data to evaluate its classification performance on the test data. The baseline report without handling imbalance is printed for reference."
   ]
  },
  {
   "cell_type": "code",
   "execution_count": 9,
   "metadata": {},
   "outputs": [
    {
     "name": "stdout",
     "output_type": "stream",
     "text": [
      "              precision    recall  f1-score   support\n",
      "\n",
      "           0       0.92      0.99      0.95      4896\n",
      "           1       0.85      0.45      0.59       751\n",
      "\n",
      "    accuracy                           0.92      5647\n",
      "   macro avg       0.88      0.72      0.77      5647\n",
      "weighted avg       0.91      0.92      0.90      5647\n",
      "\n"
     ]
    }
   ],
   "source": [
    "from lol import LOL\n",
    "from sklearn.linear_model import LogisticRegression\n",
    "from sklearn.metrics import classification_report\n",
    "\n",
    "# Initialize Lollipop with an arbitrary number of components for baseline\n",
    "lmao = LOL()\n",
    "\n",
    "# Fit the Lollipop model on the training data\n",
    "X_train_lol = lmao.fit_transform(X_train, y_train)\n",
    "\n",
    "# Transform the test data\n",
    "X_test_lollipop = lmao.transform(X_test)\n",
    "\n",
    "# Initialize and train the logistic regression model\n",
    "baseline_model = LogisticRegression()\n",
    "baseline_model.fit(X_train_lol, y_train)\n",
    "\n",
    "# Predict on the test data\n",
    "y_pred_baseline = baseline_model.predict(X_test_lollipop)\n",
    "\n",
    "# Calculate and print the accuracy for the baseline model\n",
    "class_report = classification_report(y_test, y_pred_baseline)\n",
    "\n",
    "print(class_report)"
   ]
  },
  {
   "cell_type": "markdown",
   "metadata": {},
   "source": [
    "The baseline model achieves a precision of 92%, a recall of 45%, and an overall accuracy of 92%. The high accuracy is primarily due to the model's effectiveness in identifying patients who survived the ICU stay (class 0). However, it is misleading as it struggles to correctly classify patients who did not survive (class 1), which is evident from the low recall. Recall, which indicates the proportion of actual positives accurately identified, is vital in this context since it is essential to accurately detect high-risk patients. Therefore, improving recall is a key objective to ensure that no high-risk patients are missed.\n",
    "\n",
    "We then determine the optimal number of components for the Lollipop model by performing cross-validation. We iterate over a range of total number of components and record the cross-validation scores.\n",
    "\n",
    "Using the optimal number of components, we transform the resampled training data and the test data with LOL. We then train Logistic Regression on the transformed, balanced training data and evaluate its report on the test data. We then compare the results to the baseline model."
   ]
  },
  {
   "cell_type": "code",
   "execution_count": 10,
   "metadata": {},
   "outputs": [],
   "source": [
    "from imblearn.combine import SMOTEENN\n",
    "from sklearn.model_selection import cross_val_score\n",
    "\n",
    "# Handle imbalanced classification with hybrid sampling (SMOTEENN)\n",
    "smote_enn = SMOTEENN(random_state=42)\n",
    "X_train_resampled, y_train_resampled = smote_enn.fit_resample(X_train, y_train)\n",
    "\n",
    "# Determine optimal number of components for LOL\n",
    "num_components = list(range(1, X_train.shape[1] + 1))\n",
    "cv_scores = []\n",
    "\n",
    "for n in num_components:\n",
    "    lmao = LOL(n_components=n)\n",
    "    X_train_lol2 = lmao.fit_transform(X_train, y_train)\n",
    "    model = LogisticRegression()\n",
    "    scores = cross_val_score(model, X_train_lol2, y_train, cv=5)\n",
    "    cv_scores.append(scores.mean())"
   ]
  },
  {
   "cell_type": "code",
   "execution_count": 11,
   "metadata": {},
   "outputs": [
    {
     "data": {
      "image/png": "[encoded data removed]",
      "text/plain": [
       "<Figure size 640x480 with 1 Axes>"
      ]
     },
     "metadata": {},
     "output_type": "display_data"
    }
   ],
   "source": [
    "# Create a DataFrame to store the results\n",
    "cv_results = pd.DataFrame({'Number of Components': num_components, 'Cross-Validation Score': cv_scores})\n",
    "\n",
    "# Plot the results\n",
    "plt.plot(cv_results['Number of Components'], cv_results['Cross-Validation Score'], marker='o')\n",
    "plt.xlabel('Number of Components')\n",
    "plt.xticks(num_components)\n",
    "plt.ylabel('Cross-Validation Score')\n",
    "plt.title('Optimal Number of Components')\n",
    "plt.show()"
   ]
  },
  {
   "cell_type": "markdown",
   "metadata": {},
   "source": [
    "From the cross-validation results, we assume that the optimal number of components is 8. As the number of components increases beyond 8, the score does not improve significantly.\n",
    "\n",
    "We then apply LOL with 8 components, along with resampling techniques to address class imbalance, to enhance model performance."
   ]
  },
  {
   "cell_type": "code",
   "execution_count": 12,
   "metadata": {},
   "outputs": [
    {
     "name": "stdout",
     "output_type": "stream",
     "text": [
      "              precision    recall  f1-score   support\n",
      "\n",
      "           0       0.96      0.72      0.82      4896\n",
      "           1       0.30      0.78      0.43       751\n",
      "\n",
      "    accuracy                           0.73      5647\n",
      "   macro avg       0.63      0.75      0.63      5647\n",
      "weighted avg       0.87      0.73      0.77      5647\n",
      "\n"
     ]
    }
   ],
   "source": [
    "# Apply LOL with the optimal number of components\n",
    "lmao = LOL(n_components=8)\n",
    "X_train_lol3 = lmao.fit_transform(X_train_resampled, y_train_resampled)\n",
    "X_test_lol3 = lmao.transform(X_test)\n",
    "\n",
    "# Train the Random Forest model on the transformed data\n",
    "model = LogisticRegression(random_state=42)\n",
    "model.fit(X_train_lol3, y_train_resampled)\n",
    "\n",
    "# Predict on the test data\n",
    "y_pred = model.predict(X_test_lol3)\n",
    "\n",
    "# Calculate and print the accuracy with LOL and handling imbalance\n",
    "accuracy = classification_report(y_test, y_pred)\n",
    "print(accuracy)"
   ]
  },
  {
   "cell_type": "markdown",
   "metadata": {},
   "source": [
    "Hybrid sampling of the imbalanced data, combined with the 8-component LOL and logistic regression, resulted in a precision of 96%, recall of 78%, and an accuracy of 73%. Although the accuracy decreased, the increase in precision and recall indicates a better capture of true positives, thus effectively identifying more high-risk patients."
   ]
  },
  {
   "cell_type": "markdown",
   "metadata": {},
   "source": [
    "### PCA\n",
    "\n",
    "Next, we carry out Principal Component Analysis (PCA) to compare its performance with that of LOL.\n",
    "\n",
    "Additionally, we run a baseline model with logistic regression to compare its performance on the imbalanced data."
   ]
  },
  {
   "cell_type": "code",
   "execution_count": 13,
   "metadata": {},
   "outputs": [
    {
     "name": "stdout",
     "output_type": "stream",
     "text": [
      "              precision    recall  f1-score   support\n",
      "\n",
      "           0       0.92      0.99      0.95      4896\n",
      "           1       0.84      0.44      0.58       751\n",
      "\n",
      "    accuracy                           0.91      5647\n",
      "   macro avg       0.88      0.72      0.77      5647\n",
      "weighted avg       0.91      0.91      0.90      5647\n",
      "\n"
     ]
    }
   ],
   "source": [
    "from sklearn.decomposition import PCA\n",
    "\n",
    "# Baseline model without handling imbalance using PCA\n",
    "pca = PCA()\n",
    "X_train_pca = pca.fit_transform(X_train)\n",
    "X_test_pca = pca.transform(X_test)\n",
    "\n",
    "baseline_model = LogisticRegression()\n",
    "baseline_model.fit(X_train_pca, y_train)\n",
    "y_pred_baseline = baseline_model.predict(X_test_pca)\n",
    "baseline_report = classification_report(y_test, y_pred_baseline)\n",
    "\n",
    "print(baseline_report)"
   ]
  },
  {
   "cell_type": "markdown",
   "metadata": {},
   "source": [
    "The logistic regression model achieves a precision of 92%, a recall of 44%, and an accuracy of 91%. Similar to the LOL-based model, it fails to adequately capture high-risk patients due to its lower recall.\n",
    "\n",
    "Next, we re-perform hybrid sampling and cross-validation to determine the optimal number of components."
   ]
  },
  {
   "cell_type": "code",
   "execution_count": 14,
   "metadata": {},
   "outputs": [
    {
     "data": {
      "image/png": "[encoded data removed]",
      "text/plain": [
       "<Figure size 1000x600 with 1 Axes>"
      ]
     },
     "metadata": {},
     "output_type": "display_data"
    },
    {
     "data": {
      "text/plain": [
       "array([0.17789752, 0.2781577 , 0.36925497, 0.45404461, 0.5264298 ,\n",
       "       0.58862349, 0.6445376 , 0.6951356 , 0.7414167 , 0.78725469,\n",
       "       0.82593679, 0.86206899, 0.8960931 , 0.92456328, 0.9518031 ,\n",
       "       0.96934837, 0.98121132, 0.99068092, 0.99740279, 1.        ])"
      ]
     },
     "execution_count": 14,
     "metadata": {},
     "output_type": "execute_result"
    }
   ],
   "source": [
    "# Apply PCA on resampled data\n",
    "pca_resampled = PCA()\n",
    "X_train_pca_resampled = pca_resampled.fit_transform(X_train_resampled)\n",
    "X_test_pca_resampled = pca_resampled.transform(X_test)\n",
    "\n",
    "# Explained variance and scree plot for resampled data\n",
    "cumulative_variance_resampled = pca_resampled.explained_variance_ratio_.cumsum()\n",
    "\n",
    "plt.figure(figsize=(10, 6))\n",
    "plt.plot(range(1, len(cumulative_variance_resampled) + 1), cumulative_variance_resampled, marker='o', label='Cumulative explained variance')\n",
    "plt.xlabel('Number of Components')\n",
    "plt.xticks(num_components)\n",
    "plt.ylabel('Variance Explained')\n",
    "plt.title('Explained Variance by PCA Components (Resampled)')\n",
    "plt.show()\n",
    "\n",
    "cumulative_variance_resampled"
   ]
  },
  {
   "cell_type": "markdown",
   "metadata": {},
   "source": [
    "Using PCA, we found that 11 components explain 80% of the original variance present within the data. Therefore, we retain these 11 components going forward to fit our model."
   ]
  },
  {
   "cell_type": "code",
   "execution_count": 15,
   "metadata": {},
   "outputs": [
    {
     "name": "stdout",
     "output_type": "stream",
     "text": [
      "              precision    recall  f1-score   support\n",
      "\n",
      "           0       0.95      0.72      0.82      4896\n",
      "           1       0.29      0.77      0.43       751\n",
      "\n",
      "    accuracy                           0.72      5647\n",
      "   macro avg       0.62      0.74      0.62      5647\n",
      "weighted avg       0.87      0.72      0.77      5647\n",
      "\n"
     ]
    }
   ],
   "source": [
    "# Apply PCA on resampled data\n",
    "pca_resampled = PCA(n_components=11)\n",
    "X_train_pca_resampled = pca_resampled.fit_transform(X_train_resampled)\n",
    "X_test_pca_resampled = pca_resampled.transform(X_test)\n",
    "\n",
    "# Train and evaluate logistic regression model on resampled data\n",
    "model_resampled = LogisticRegression()\n",
    "model_resampled.fit(X_train_pca_resampled, y_train_resampled)\n",
    "y_pred_resampled = model_resampled.predict(X_test_pca_resampled)\n",
    "resampled_report = classification_report(y_test, y_pred_resampled)\n",
    "print(resampled_report)"
   ]
  },
  {
   "cell_type": "markdown",
   "metadata": {},
   "source": [
    "Logistic regression on the PCA-transformed data with 11 components resulted in a precision of 95%, a recall of 77%, and an accuracy of 72%. Similar to the LOL-based model, the accuracy decreased, but both precision and recall increased, capturing a more accurate scenario by identifying more high-risk patients.\n",
    "\n",
    "The precision, recall, and accuracy of LOL-based model is all slightly higher than that of PCA-transformed data."
   ]
  },
  {
   "cell_type": "markdown",
   "metadata": {},
   "source": [
    "### LOL vs PCA\n",
    "\n",
    "We next compare the classification error of LOL and PCA-based logistic regression models."
   ]
  },
  {
   "cell_type": "code",
   "execution_count": 16,
   "metadata": {},
   "outputs": [
    {
     "data": {
      "image/png": "[encoded data removed]",
      "text/plain": [
       "<Figure size 1200x600 with 1 Axes>"
      ]
     },
     "metadata": {},
     "output_type": "display_data"
    }
   ],
   "source": [
    "from sklearn.metrics import accuracy_score\n",
    "\n",
    "# Determine classification errors for PCA\n",
    "num_components = list(range(1, X_train.shape[1] + 1))\n",
    "pca_errors = []\n",
    "lol_errors = []\n",
    "\n",
    "for n in num_components:\n",
    "    # PCA\n",
    "    pca = PCA(n_components=n)\n",
    "    X_train_pca = pca.fit_transform(X_train_resampled)\n",
    "    X_test_pca = pca.transform(X_test)\n",
    "    \n",
    "    model_pca = LogisticRegression(random_state=42)\n",
    "    model_pca.fit(X_train_pca, y_train_resampled)\n",
    "    y_pred_pca = model_pca.predict(X_test_pca)\n",
    "    pca_errors.append(1 - accuracy_score(y_test, y_pred_pca))\n",
    "    \n",
    "    # LOL\n",
    "    lol = LOL(n_components=n)\n",
    "    X_train_lol = lol.fit_transform(X_train_resampled, y_train_resampled)\n",
    "    X_test_lol = lol.transform(X_test)\n",
    "    \n",
    "    model_lol = LogisticRegression(random_state=42)\n",
    "    model_lol.fit(X_train_lol, y_train_resampled)\n",
    "    y_pred_lol = model_lol.predict(X_test_lol)\n",
    "    lol_errors.append(1 - accuracy_score(y_test, y_pred_lol))\n",
    "\n",
    "# Plot classification errors\n",
    "plt.figure(figsize=(12, 6))\n",
    "plt.plot(num_components, pca_errors, marker='o', label='PCA Classification Error')\n",
    "plt.plot(num_components, lol_errors, marker='o', label='LOL Classification Error')\n",
    "plt.xlabel('Number of Components')\n",
    "plt.xticks(num_components)  # Set x-ticks to match the number of components\n",
    "plt.ylabel('Classification Error')\n",
    "plt.title('PCA vs LOL Classification Errors with Resampling')\n",
    "plt.legend()\n",
    "plt.show()"
   ]
  },
  {
   "cell_type": "markdown",
   "metadata": {},
   "source": [
    "The comparison graph illustrates the classification errors for both PCA and LOL models as the number of components increases.\n",
    "\n",
    "LOL consistently maintains a slightly lower classification error compared to PCA across most component counts, highlighting its effectiveness in reducing dimensionality while preserving important information.\n",
    "\n",
    "These results suggest that while PCA is effective, LOL can achieve similar or better performance with fewer components, making it a more efficient choice for this dataset."
   ]
  },
  {
   "cell_type": "code",
   "execution_count": null,
   "metadata": {},
   "outputs": [],
   "source": []
  }
 ],
 "metadata": {
  "kernelspec": {
   "display_name": "Python 3 (ipykernel)",
   "language": "python",
   "name": "python3"
  },
  "language_info": {
   "codemirror_mode": {
    "name": "ipython",
    "version": 3
   },
   "file_extension": ".py",
   "mimetype": "text/x-python",
   "name": "python",
   "nbconvert_exporter": "python",
   "pygments_lexer": "ipython3",
   "version": "3.12.4"
  }
 },
 "nbformat": 4,
 "nbformat_minor": 4
}
